{
  "nbformat": 4,
  "nbformat_minor": 0,
  "metadata": {
    "colab": {
      "provenance": [],
      "toc_visible": true,
      "authorship_tag": "ABX9TyMQcjP3jPhmJAvPGq4AR3GY",
      "include_colab_link": true
    },
    "kernelspec": {
      "name": "python3",
      "display_name": "Python 3"
    },
    "language_info": {
      "name": "python"
    }
  },
  "cells": [
    {
      "cell_type": "markdown",
      "metadata": {
        "id": "view-in-github",
        "colab_type": "text"
      },
      "source": [
        "<a href=\"https://colab.research.google.com/github/AiProcess/CartPole_RL/blob/main/cart_pole.ipynb\" target=\"_parent\"><img src=\"https://colab.research.google.com/assets/colab-badge.svg\" alt=\"Open In Colab\"/></a>"
      ]
    },
    {
      "cell_type": "code",
      "source": [
        "!pip install torchrl\n",
        "!pip install tensordict"
      ],
      "metadata": {
        "id": "mFDUwNyqs_Ou"
      },
      "execution_count": null,
      "outputs": []
    },
    {
      "cell_type": "code",
      "source": [
        "import torch\n",
        "\n",
        "device = \"cuda\" if torch.cuda.is_available() else \"cpu\"\n",
        "print(f\"Default device is {device}\")"
      ],
      "metadata": {
        "colab": {
          "base_uri": "https://localhost:8080/"
        },
        "id": "yuLf_ZsDxyIu",
        "outputId": "51d08a5e-f85b-41eb-b461-47b1da943286"
      },
      "execution_count": 2,
      "outputs": [
        {
          "output_type": "stream",
          "name": "stdout",
          "text": [
            "Default device is cpu\n"
          ]
        }
      ]
    },
    {
      "cell_type": "markdown",
      "source": [
        "# Environment"
      ],
      "metadata": {
        "id": "1hBD1WslsMse"
      }
    },
    {
      "cell_type": "code",
      "source": [
        "from torchrl.envs import GymEnv\n",
        "from torchrl.envs.transforms import StepCounter, TransformedEnv\n",
        "from torchrl.record import VideoRecorder, CSVLogger"
      ],
      "metadata": {
        "id": "mMqxLYDCtPgq"
      },
      "execution_count": 3,
      "outputs": []
    },
    {
      "cell_type": "markdown",
      "source": [
        "## Main Env"
      ],
      "metadata": {
        "id": "8ZzYWN2xvdEv"
      }
    },
    {
      "cell_type": "code",
      "source": [
        "env = TransformedEnv(\n",
        "    env=GymEnv(env_name=\"CartPole-v1\"),\n",
        "    transform=StepCounter(),\n",
        ").to(device)"
      ],
      "metadata": {
        "colab": {
          "base_uri": "https://localhost:8080/"
        },
        "id": "s8VAbFl7sZ_z",
        "outputId": "b4b16c27-b8fb-4734-c9c0-7fa700212e55"
      },
      "execution_count": 4,
      "outputs": [
        {
          "output_type": "stream",
          "name": "stderr",
          "text": [
            "/usr/local/lib/python3.10/dist-packages/ipykernel/ipkernel.py:283: DeprecationWarning: `should_run_async` will not call `transform_cell` automatically in the future. Please pass the result to `transformed_cell` argument and any exception that happen during thetransform in `preprocessing_exc_tuple` in IPython 7.17 and above.\n",
            "  and should_run_async(code)\n"
          ]
        }
      ]
    },
    {
      "cell_type": "markdown",
      "source": [
        "## Test Env"
      ],
      "metadata": {
        "id": "CABsDru9vgL3"
      }
    },
    {
      "cell_type": "code",
      "source": [
        "csv_logger = CSVLogger(exp_name=\"test\", log_dir=\"cart_pole\", video_format=\"mp4\")\n",
        "video_recorder = VideoRecorder(logger=csv_logger, tag=\"video\")\n",
        "\n",
        "test_env = TransformedEnv(\n",
        "    env=GymEnv(\n",
        "        env_name=\"CartPole-v1\",\n",
        "        from_pixels=True,\n",
        "        pixels_only=False\n",
        "    ),\n",
        "    transform=video_recorder\n",
        ").to(device)"
      ],
      "metadata": {
        "colab": {
          "base_uri": "https://localhost:8080/"
        },
        "id": "CvdIptGesZ2g",
        "outputId": "5827b447-daf0-42af-94a6-535720d49b0e"
      },
      "execution_count": 5,
      "outputs": [
        {
          "output_type": "stream",
          "name": "stderr",
          "text": [
            "/usr/local/lib/python3.10/dist-packages/ipykernel/ipkernel.py:283: DeprecationWarning: `should_run_async` will not call `transform_cell` automatically in the future. Please pass the result to `transformed_cell` argument and any exception that happen during thetransform in `preprocessing_exc_tuple` in IPython 7.17 and above.\n",
            "  and should_run_async(code)\n",
            "/usr/local/lib/python3.10/dist-packages/pygame/pkgdata.py:25: DeprecationWarning: pkg_resources is deprecated as an API. See https://setuptools.pypa.io/en/latest/pkg_resources.html\n",
            "  from pkg_resources import resource_stream, resource_exists\n",
            "/usr/local/lib/python3.10/dist-packages/pkg_resources/__init__.py:3154: DeprecationWarning: Deprecated call to `pkg_resources.declare_namespace('google')`.\n",
            "Implementing implicit namespace packages (as specified in PEP 420) is preferred to `pkg_resources.declare_namespace`. See https://setuptools.pypa.io/en/latest/references/keywords.html#keyword-namespace-packages\n",
            "  declare_namespace(pkg)\n",
            "/usr/local/lib/python3.10/dist-packages/pkg_resources/__init__.py:3154: DeprecationWarning: Deprecated call to `pkg_resources.declare_namespace('google.cloud')`.\n",
            "Implementing implicit namespace packages (as specified in PEP 420) is preferred to `pkg_resources.declare_namespace`. See https://setuptools.pypa.io/en/latest/references/keywords.html#keyword-namespace-packages\n",
            "  declare_namespace(pkg)\n",
            "/usr/local/lib/python3.10/dist-packages/pkg_resources/__init__.py:3154: DeprecationWarning: Deprecated call to `pkg_resources.declare_namespace('sphinxcontrib')`.\n",
            "Implementing implicit namespace packages (as specified in PEP 420) is preferred to `pkg_resources.declare_namespace`. See https://setuptools.pypa.io/en/latest/references/keywords.html#keyword-namespace-packages\n",
            "  declare_namespace(pkg)\n"
          ]
        }
      ]
    },
    {
      "cell_type": "code",
      "source": [
        "# env.rollout(max_steps=5)"
      ],
      "metadata": {
        "colab": {
          "base_uri": "https://localhost:8080/"
        },
        "id": "rgbmmSlt0KfJ",
        "outputId": "1c95fe41-6c49-49e2-fc5f-d3993281c773"
      },
      "execution_count": 6,
      "outputs": [
        {
          "output_type": "stream",
          "name": "stderr",
          "text": [
            "/usr/local/lib/python3.10/dist-packages/ipykernel/ipkernel.py:283: DeprecationWarning: `should_run_async` will not call `transform_cell` automatically in the future. Please pass the result to `transformed_cell` argument and any exception that happen during thetransform in `preprocessing_exc_tuple` in IPython 7.17 and above.\n",
            "  and should_run_async(code)\n"
          ]
        }
      ]
    },
    {
      "cell_type": "markdown",
      "source": [
        "# Agent"
      ],
      "metadata": {
        "id": "wrw6qqWMsQkz"
      }
    },
    {
      "cell_type": "code",
      "source": [
        "from torch import nn\n",
        "import torch.nn.functional as F\n",
        "from tensordict.nn import TensorDictModule, TensorDictSequential\n",
        "from torchrl.modules import EGreedyModule, QValueModule"
      ],
      "metadata": {
        "id": "F81mubXjI6WH"
      },
      "execution_count": 7,
      "outputs": []
    },
    {
      "cell_type": "markdown",
      "source": [
        "## Policy"
      ],
      "metadata": {
        "id": "yu6lMoWkzkG_"
      }
    },
    {
      "cell_type": "code",
      "source": [
        "class MLP_Model(nn.Module):\n",
        "    def __init__(self, in_features, out_features) -> None:\n",
        "        super().__init__()\n",
        "        self.layer1 = nn.Linear(in_features=in_features, out_features=64)\n",
        "        self.layer2 = nn.Linear(in_features=64, out_features=64)\n",
        "        self.layer3 = nn.Linear(in_features=64, out_features=out_features)\n",
        "\n",
        "    def forward(self, x):\n",
        "        y = F.relu(self.layer1(x))\n",
        "        y = F.relu(self.layer2(y))\n",
        "        y = F.relu(self.layer3(y))\n",
        "\n",
        "        return y"
      ],
      "metadata": {
        "id": "S3ELxcYDsZiM"
      },
      "execution_count": 8,
      "outputs": []
    },
    {
      "cell_type": "code",
      "source": [
        "value_mlp = MLP_Model(\n",
        "    in_features=env.observation_spec['observation'].shape[0],\n",
        "    out_features=env.action_spec.shape[0]\n",
        ")\n",
        "\n",
        "value_net = TensorDictModule(\n",
        "    module=value_mlp,\n",
        "    in_keys=[\"observation\"],\n",
        "    out_keys=[\"action_value\"]\n",
        ")\n",
        "\n",
        "exploration_module = EGreedyModule(\n",
        "    env.action_spec, annealing_num_steps=100_000, eps_init=0.5\n",
        ")\n",
        "\n",
        "policy_explore = TensorDictSequential(\n",
        "    value_net,\n",
        "    QValueModule(spec=env.action_spec),\n",
        "    exploration_module\n",
        ").to(device)"
      ],
      "metadata": {
        "id": "dHEqSxPvsZW2"
      },
      "execution_count": 9,
      "outputs": []
    },
    {
      "cell_type": "markdown",
      "source": [
        "## Data Collection"
      ],
      "metadata": {
        "id": "eBL0AqDws1J5"
      }
    },
    {
      "cell_type": "code",
      "source": [],
      "metadata": {
        "id": "bBMKzeGxs4s9"
      },
      "execution_count": 11,
      "outputs": []
    },
    {
      "cell_type": "code",
      "source": [],
      "metadata": {
        "id": "lF-fd2ibs6ve"
      },
      "execution_count": 11,
      "outputs": []
    },
    {
      "cell_type": "markdown",
      "source": [
        "# Training Loop"
      ],
      "metadata": {
        "id": "jFFnVVpqstuu"
      }
    },
    {
      "cell_type": "code",
      "source": [],
      "metadata": {
        "id": "OA7BOZVJsuMM"
      },
      "execution_count": 11,
      "outputs": []
    },
    {
      "cell_type": "code",
      "source": [],
      "metadata": {
        "id": "Mw5WpeRVsvol"
      },
      "execution_count": 11,
      "outputs": []
    },
    {
      "cell_type": "markdown",
      "source": [
        "# Results"
      ],
      "metadata": {
        "id": "hIQw8wN8sQDU"
      }
    },
    {
      "cell_type": "code",
      "source": [],
      "metadata": {
        "id": "-D1-lWX-sMQj"
      },
      "execution_count": 11,
      "outputs": []
    },
    {
      "cell_type": "code",
      "source": [],
      "metadata": {
        "id": "YagGxCEnsMOV"
      },
      "execution_count": 11,
      "outputs": []
    },
    {
      "cell_type": "code",
      "source": [],
      "metadata": {
        "id": "eCW8ZqTQsMDV"
      },
      "execution_count": 11,
      "outputs": []
    },
    {
      "cell_type": "code",
      "execution_count": 11,
      "metadata": {
        "id": "fT_fpFc3r8kX"
      },
      "outputs": [],
      "source": []
    }
  ]
}