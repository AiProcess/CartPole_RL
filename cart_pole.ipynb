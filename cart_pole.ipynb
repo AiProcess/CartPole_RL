{
  "nbformat": 4,
  "nbformat_minor": 0,
  "metadata": {
    "colab": {
      "provenance": [],
      "toc_visible": true,
      "authorship_tag": "ABX9TyNzkyb2y2kATjIjhrzseshi",
      "include_colab_link": true
    },
    "kernelspec": {
      "name": "python3",
      "display_name": "Python 3"
    },
    "language_info": {
      "name": "python"
    }
  },
  "cells": [
    {
      "cell_type": "markdown",
      "metadata": {
        "id": "view-in-github",
        "colab_type": "text"
      },
      "source": [
        "<a href=\"https://colab.research.google.com/github/AiProcess/CartPole_RL/blob/main/cart_pole.ipynb\" target=\"_parent\"><img src=\"https://colab.research.google.com/assets/colab-badge.svg\" alt=\"Open In Colab\"/></a>"
      ]
    },
    {
      "cell_type": "code",
      "source": [
        "!pip install torchrl\n",
        "!pip install tensordict"
      ],
      "metadata": {
        "id": "mFDUwNyqs_Ou"
      },
      "execution_count": null,
      "outputs": []
    },
    {
      "cell_type": "code",
      "source": [
        "import torch\n",
        "\n",
        "device = \"cuda\" if torch.cuda.is_available() else \"cpu\"\n",
        "print(f\"Default device is {device}\")"
      ],
      "metadata": {
        "colab": {
          "base_uri": "https://localhost:8080/"
        },
        "id": "yuLf_ZsDxyIu",
        "outputId": "51d08a5e-f85b-41eb-b461-47b1da943286"
      },
      "execution_count": 2,
      "outputs": [
        {
          "output_type": "stream",
          "name": "stdout",
          "text": [
            "Default device is cpu\n"
          ]
        }
      ]
    },
    {
      "cell_type": "markdown",
      "source": [
        "# Environment"
      ],
      "metadata": {
        "id": "1hBD1WslsMse"
      }
    },
    {
      "cell_type": "code",
      "source": [
        "from torchrl.envs import GymEnv\n",
        "from torchrl.envs.transforms import StepCounter, TransformedEnv\n",
        "from torchrl.record import VideoRecorder, CSVLogger"
      ],
      "metadata": {
        "id": "mMqxLYDCtPgq"
      },
      "execution_count": 3,
      "outputs": []
    },
    {
      "cell_type": "markdown",
      "source": [
        "## Main Env"
      ],
      "metadata": {
        "id": "8ZzYWN2xvdEv"
      }
    },
    {
      "cell_type": "code",
      "source": [
        "env = TransformedEnv(\n",
        "    env=GymEnv(env_name=\"CartPole-v1\"),\n",
        "    transform=StepCounter(),\n",
        ").to(device)"
      ],
      "metadata": {
        "id": "s8VAbFl7sZ_z"
      },
      "execution_count": null,
      "outputs": []
    },
    {
      "cell_type": "markdown",
      "source": [
        "## Test Env"
      ],
      "metadata": {
        "id": "CABsDru9vgL3"
      }
    },
    {
      "cell_type": "code",
      "source": [
        "csv_logger = CSVLogger(exp_name=\"test\", log_dir=\"cart_pole\", video_format=\"mp4\")\n",
        "video_recorder = VideoRecorder(logger=csv_logger, tag=\"video\")\n",
        "\n",
        "test_env = TransformedEnv(\n",
        "    env=GymEnv(\n",
        "        env_name=\"CartPole-v1\",\n",
        "        from_pixels=True,\n",
        "        pixels_only=False\n",
        "    ),\n",
        "    transform=video_recorder\n",
        ").to(device)"
      ],
      "metadata": {
        "id": "CvdIptGesZ2g"
      },
      "execution_count": null,
      "outputs": []
    },
    {
      "cell_type": "code",
      "source": [
        "# env.rollout(max_steps=5)"
      ],
      "metadata": {
        "id": "rgbmmSlt0KfJ"
      },
      "execution_count": null,
      "outputs": []
    },
    {
      "cell_type": "markdown",
      "source": [
        "# Agent"
      ],
      "metadata": {
        "id": "wrw6qqWMsQkz"
      }
    },
    {
      "cell_type": "code",
      "source": [
        "from torch import nn\n",
        "import torch.nn.functional as F\n",
        "from tensordict.nn import TensorDictModule, TensorDictSequential\n",
        "from torchrl.modules import EGreedyModule, QValueModule"
      ],
      "metadata": {
        "id": "F81mubXjI6WH"
      },
      "execution_count": 7,
      "outputs": []
    },
    {
      "cell_type": "markdown",
      "source": [
        "## Policy"
      ],
      "metadata": {
        "id": "yu6lMoWkzkG_"
      }
    },
    {
      "cell_type": "code",
      "source": [
        "class MLP_Model(nn.Module):\n",
        "    def __init__(self, in_features, out_features) -> None:\n",
        "        super().__init__()\n",
        "        self.layer1 = nn.Linear(in_features=in_features, out_features=64)\n",
        "        self.layer2 = nn.Linear(in_features=64, out_features=64)\n",
        "        self.layer3 = nn.Linear(in_features=64, out_features=out_features)\n",
        "\n",
        "    def forward(self, x):\n",
        "        y = F.relu(self.layer1(x))\n",
        "        y = F.relu(self.layer2(y))\n",
        "        y = F.relu(self.layer3(y))\n",
        "\n",
        "        return y"
      ],
      "metadata": {
        "id": "S3ELxcYDsZiM"
      },
      "execution_count": 8,
      "outputs": []
    },
    {
      "cell_type": "code",
      "source": [
        "value_mlp = MLP_Model(\n",
        "    in_features=env.observation_spec['observation'].shape[0],\n",
        "    out_features=env.action_spec.shape[0]\n",
        ")\n",
        "\n",
        "value_net = TensorDictModule(\n",
        "    module=value_mlp,\n",
        "    in_keys=[\"observation\"],\n",
        "    out_keys=[\"action_value\"]\n",
        ")\n",
        "\n",
        "exploration_module = EGreedyModule(\n",
        "    env.action_spec, annealing_num_steps=100_000, eps_init=0.5\n",
        ")\n",
        "\n",
        "policy_explore = TensorDictSequential(\n",
        "    value_net,\n",
        "    QValueModule(spec=env.action_spec),\n",
        "    exploration_module\n",
        ").to(device)"
      ],
      "metadata": {
        "id": "dHEqSxPvsZW2"
      },
      "execution_count": 9,
      "outputs": []
    },
    {
      "cell_type": "markdown",
      "source": [
        "## Data Collection and Replay Buffer"
      ],
      "metadata": {
        "id": "eBL0AqDws1J5"
      }
    },
    {
      "cell_type": "code",
      "source": [
        "from torchrl.collectors import SyncDataCollector\n",
        "from torchrl.data import LazyTensorStorage, ReplayBuffer"
      ],
      "metadata": {
        "id": "bBMKzeGxs4s9"
      },
      "execution_count": null,
      "outputs": []
    },
    {
      "cell_type": "code",
      "source": [
        "collector = SyncDataCollector(\n",
        "    create_env_fn=env,\n",
        "    policy=policy_explore,\n",
        "    frames_per_batch=128,\n",
        "    total_frames=-1,\n",
        "    init_random_frames=5000\n",
        ")"
      ],
      "metadata": {
        "id": "lF-fd2ibs6ve"
      },
      "execution_count": null,
      "outputs": []
    },
    {
      "cell_type": "code",
      "source": [
        "collector"
      ],
      "metadata": {
        "colab": {
          "base_uri": "https://localhost:8080/"
        },
        "id": "-tQVEwgwVpVI",
        "outputId": "5f08b270-03cc-4b46-c250-497c0a5d685f"
      },
      "execution_count": 15,
      "outputs": [
        {
          "output_type": "execute_result",
          "data": {
            "text/plain": [
              "SyncDataCollector(\n",
              "    env=TransformedEnv(\n",
              "        env=GymEnv(env=CartPole-v1, batch_size=torch.Size([]), device=cpu),\n",
              "        transform=StepCounter(keys=[])),\n",
              "    policy=TensorDictSequential(\n",
              "        module=ModuleList(\n",
              "          (0): TensorDictModule(\n",
              "              module=MLP_Model(\n",
              "                (layer1): Linear(in_features=4, out_features=64, bias=True)\n",
              "                (layer2): Linear(in_features=64, out_features=64, bias=True)\n",
              "                (layer3): Linear(in_features=64, out_features=2, bias=True)\n",
              "              ),\n",
              "              device=cpu,\n",
              "              in_keys=['observation'],\n",
              "              out_keys=['action_value'])\n",
              "          (1): QValueModule()\n",
              "          (2): EGreedyModule()\n",
              "        ),\n",
              "        device=cpu,\n",
              "        in_keys=['observation'],\n",
              "        out_keys=['action_value', 'chosen_action_value', 'action']),\n",
              "    td_out=TensorDict(\n",
              "        fields={\n",
              "            action: Tensor(shape=torch.Size([128, 2]), device=cpu, dtype=torch.int64, is_shared=False),\n",
              "            action_value: Tensor(shape=torch.Size([128, 2]), device=cpu, dtype=torch.float32, is_shared=False),\n",
              "            chosen_action_value: Tensor(shape=torch.Size([128, 1]), device=cpu, dtype=torch.float32, is_shared=False),\n",
              "            collector: TensorDict(\n",
              "                fields={\n",
              "                    traj_ids: Tensor(shape=torch.Size([128]), device=cpu, dtype=torch.int64, is_shared=False)},\n",
              "                batch_size=torch.Size([128]),\n",
              "                device=None,\n",
              "                is_shared=False),\n",
              "            done: Tensor(shape=torch.Size([128, 1]), device=cpu, dtype=torch.bool, is_shared=False),\n",
              "            next: TensorDict(\n",
              "                fields={\n",
              "                    done: Tensor(shape=torch.Size([128, 1]), device=cpu, dtype=torch.bool, is_shared=False),\n",
              "                    observation: Tensor(shape=torch.Size([128, 4]), device=cpu, dtype=torch.float32, is_shared=False),\n",
              "                    reward: Tensor(shape=torch.Size([128, 1]), device=cpu, dtype=torch.float32, is_shared=False),\n",
              "                    step_count: Tensor(shape=torch.Size([128, 1]), device=cpu, dtype=torch.int64, is_shared=False),\n",
              "                    terminated: Tensor(shape=torch.Size([128, 1]), device=cpu, dtype=torch.bool, is_shared=False),\n",
              "                    truncated: Tensor(shape=torch.Size([128, 1]), device=cpu, dtype=torch.bool, is_shared=False)},\n",
              "                batch_size=torch.Size([128]),\n",
              "                device=None,\n",
              "                is_shared=False),\n",
              "            observation: Tensor(shape=torch.Size([128, 4]), device=cpu, dtype=torch.float32, is_shared=False),\n",
              "            step_count: Tensor(shape=torch.Size([128, 1]), device=cpu, dtype=torch.int64, is_shared=False),\n",
              "            terminated: Tensor(shape=torch.Size([128, 1]), device=cpu, dtype=torch.bool, is_shared=False),\n",
              "            truncated: Tensor(shape=torch.Size([128, 1]), device=cpu, dtype=torch.bool, is_shared=False)},\n",
              "        batch_size=torch.Size([128]),\n",
              "        device=None,\n",
              "        is_shared=False),\n",
              "exploration=random)"
            ]
          },
          "metadata": {},
          "execution_count": 15
        }
      ]
    },
    {
      "cell_type": "code",
      "source": [
        "rb = ReplayBuffer(storage=LazyTensorStorage(max_size=100_000))"
      ],
      "metadata": {
        "id": "7w6ucB39V9jY"
      },
      "execution_count": null,
      "outputs": []
    },
    {
      "cell_type": "code",
      "source": [
        "rb"
      ],
      "metadata": {
        "colab": {
          "base_uri": "https://localhost:8080/"
        },
        "id": "n958YvoOWN7V",
        "outputId": "ca5e1c40-8305-414a-8194-7d3c1b7c1f4d"
      },
      "execution_count": 18,
      "outputs": [
        {
          "output_type": "execute_result",
          "data": {
            "text/plain": [
              "ReplayBuffer(\n",
              "    storage=LazyTensorStorage(\n",
              "        data=<empty>, \n",
              "        shape=None, \n",
              "        len=0, \n",
              "        max_size=100000), \n",
              "    sampler=RandomSampler(), \n",
              "    writer=RoundRobinWriter(cursor=0, full_storage=False), \n",
              "    batch_size=None, \n",
              "    collate_fn=<function _collate_id at 0x7a0413fdec20>)"
            ]
          },
          "metadata": {},
          "execution_count": 18
        }
      ]
    },
    {
      "cell_type": "markdown",
      "source": [
        "## Loss module and Optimizer"
      ],
      "metadata": {
        "id": "_lM36362T94z"
      }
    },
    {
      "cell_type": "code",
      "source": [],
      "metadata": {
        "id": "upnGtNLtT9kx"
      },
      "execution_count": null,
      "outputs": []
    },
    {
      "cell_type": "code",
      "source": [],
      "metadata": {
        "id": "F--gaTFVT9dq"
      },
      "execution_count": null,
      "outputs": []
    },
    {
      "cell_type": "markdown",
      "source": [
        "# Training Loop"
      ],
      "metadata": {
        "id": "jFFnVVpqstuu"
      }
    },
    {
      "cell_type": "code",
      "source": [],
      "metadata": {
        "id": "OA7BOZVJsuMM"
      },
      "execution_count": 11,
      "outputs": []
    },
    {
      "cell_type": "code",
      "source": [],
      "metadata": {
        "id": "Mw5WpeRVsvol"
      },
      "execution_count": 11,
      "outputs": []
    },
    {
      "cell_type": "markdown",
      "source": [
        "# Results"
      ],
      "metadata": {
        "id": "hIQw8wN8sQDU"
      }
    },
    {
      "cell_type": "code",
      "source": [],
      "metadata": {
        "id": "-D1-lWX-sMQj"
      },
      "execution_count": 11,
      "outputs": []
    },
    {
      "cell_type": "code",
      "source": [],
      "metadata": {
        "id": "YagGxCEnsMOV"
      },
      "execution_count": 11,
      "outputs": []
    },
    {
      "cell_type": "code",
      "source": [],
      "metadata": {
        "id": "eCW8ZqTQsMDV"
      },
      "execution_count": 11,
      "outputs": []
    },
    {
      "cell_type": "code",
      "execution_count": 11,
      "metadata": {
        "id": "fT_fpFc3r8kX"
      },
      "outputs": [],
      "source": []
    }
  ]
}